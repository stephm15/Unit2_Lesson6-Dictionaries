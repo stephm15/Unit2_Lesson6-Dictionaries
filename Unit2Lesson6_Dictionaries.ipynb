{
  "nbformat": 4,
  "nbformat_minor": 0,
  "metadata": {
    "colab": {
      "name": "Unit2Lesson6:Dictionaries",
      "provenance": [],
      "authorship_tag": "ABX9TyNIVo7cSFUcGzjoEStyPDQW",
      "include_colab_link": true
    },
    "kernelspec": {
      "name": "python3",
      "display_name": "Python 3"
    }
  },
  "cells": [
    {
      "cell_type": "markdown",
      "metadata": {
        "id": "view-in-github",
        "colab_type": "text"
      },
      "source": [
        "<a href=\"https://colab.research.google.com/github/stephm15/Unit2_Lesson6-Dictionaries/blob/main/Unit2Lesson6_Dictionaries.ipynb\" target=\"_parent\"><img src=\"https://colab.research.google.com/assets/colab-badge.svg\" alt=\"Open In Colab\"/></a>"
      ]
    },
    {
      "cell_type": "code",
      "metadata": {
        "colab": {
          "base_uri": "https://localhost:8080/"
        },
        "id": "kcgkk8gmC0ko",
        "outputId": "644aa238-d104-4140-a2fe-432638caa6e1"
      },
      "source": [
        "#Stephanie Salarbux\r\n",
        "#Lesson: Unit 2 – Python Dictionaries \r\n",
        "#1.\tCreate a simple dictionary that stores 2 variables, for example: first and last name.#2print\r\n",
        "capital_NY = {'city' : 'Albany', 'state' : \"NY\"}\r\n",
        "print(capital_NY)\r\n",
        "#3.\tAdd a message to those variables on printing: for example: “Hello, firstname lastname!”\r\n",
        "ny_state = capital_NY['city']\r\n",
        "print(ny_state + ', the capital of NY state, is known for its architecture and history.')"
      ],
      "execution_count": 168,
      "outputs": [
        {
          "output_type": "stream",
          "text": [
            "{'city': 'Albany', 'state': 'NY'}\n",
            "Albany, the capital of NY state, is known for its architecture and history.\n"
          ],
          "name": "stdout"
        }
      ]
    },
    {
      "cell_type": "code",
      "metadata": {
        "colab": {
          "base_uri": "https://localhost:8080/"
        },
        "id": "smLwSVYFKuQM",
        "outputId": "fa5642fb-d543-4e63-efd9-b4691e9073d2"
      },
      "source": [
        "#4.\tCreate a dictionary that holds 2 key: value pairs. a.\tLoop through your dictionary and print each pair,\r\n",
        "\r\n",
        "Friend1 = {\r\n",
        "    'name' : 'Brittany',\r\n",
        "    'location' : 'San Diego',\r\n",
        "    'age': 28 ,\r\n",
        "    'birthday' : 12261992\r\n",
        " }\r\n",
        "print(Friend1)\r\n",
        "\r\n",
        "for key, value in Friend1.items():\r\n",
        "  print(\"\\nKey: \" + key)\r\n",
        "  print(\"\\nValue: \" + str(value))"
      ],
      "execution_count": 132,
      "outputs": [
        {
          "output_type": "stream",
          "text": [
            "{'name': 'Brittany', 'location': 'San Diego', 'age': 28, 'birthday': 12261992}\n",
            "\n",
            "Key: name\n",
            "\n",
            "Value: Brittany\n",
            "\n",
            "Key: location\n",
            "\n",
            "Value: San Diego\n",
            "\n",
            "Key: age\n",
            "\n",
            "Value: 28\n",
            "\n",
            "Key: birthday\n",
            "\n",
            "Value: 12261992\n"
          ],
          "name": "stdout"
        }
      ]
    },
    {
      "cell_type": "code",
      "metadata": {
        "colab": {
          "base_uri": "https://localhost:8080/"
        },
        "id": "i--X0-vBWY7S",
        "outputId": "0dca12f3-aa35-4363-d379-2b5155e69e47"
      },
      "source": [
        "#5.\tCreate a nested dictionary containing three dictionaries – these dictionaries could be anything (favorite pets, travel locations, etc.)\r\n",
        "#a.\tLoop through the dictionaries and print a message for each.\r\n",
        "\r\n",
        "People = { \r\n",
        "    'Person1': {'name' : 'Melanie', 'age' : 25, 'dream_trip' : 'Hawaii'} ,\r\n",
        "    'Person2': {'name ': 'Steven', 'age' : 33, 'dream_trip' : 'Maldives'} ,\r\n",
        "    'Person3' : {'name': 'Natasha', 'age' : 28, 'dream_trip' : 'London'}\r\n",
        "}\r\n",
        "print(People)\r\n",
        "for person, trips in People.items():\r\n",
        "  print(person, trips)\r\n"
      ],
      "execution_count": 167,
      "outputs": [
        {
          "output_type": "stream",
          "text": [
            "{'Person1': {'name': 'Melanie', 'age': 25, 'dream_trip': 'Hawaii'}, 'Person2': {'name ': 'Steven', 'age': 33, 'dream_trip': 'Maldives'}, 'Person3': {'name': 'Natasha', 'age': 28, 'dream_trip': 'London'}}\n",
            "Person1 {'name': 'Melanie', 'age': 25, 'dream_trip': 'Hawaii'}\n",
            "Person2 {'name ': 'Steven', 'age': 33, 'dream_trip': 'Maldives'}\n",
            "Person3 {'name': 'Natasha', 'age': 28, 'dream_trip': 'London'}\n"
          ],
          "name": "stdout"
        }
      ]
    }
  ]
}